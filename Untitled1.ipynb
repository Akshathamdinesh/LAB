{
 "cells": [
  {
   "cell_type": "code",
   "execution_count": 2,
   "id": "f25da39c-b3fa-49c2-8bfb-4c9b5840a3bc",
   "metadata": {},
   "outputs": [
    {
     "name": "stdout",
     "output_type": "stream",
     "text": [
      "Following is Breadth First Traversal:\n",
      "0 1 2 3 "
     ]
    }
   ],
   "source": [
    "import collections\n",
    "\n",
    "# BFS algorithm\n",
    "def bfs(graph, root):\n",
    "    visited, queue = set(), collections.deque([root])\n",
    "    visited.add(root)\n",
    "\n",
    "    while queue:\n",
    "        # Dequeue a vertex from queue\n",
    "        vertex = queue.popleft()\n",
    "        print(str(vertex) + \" \", end=\"\")\n",
    "\n",
    "        # If not visited, mark it as visited, and enqueue it\n",
    "        for neighbour in graph[vertex]:\n",
    "            if neighbour not in visited:\n",
    "                visited.add(neighbour)\n",
    "                queue.append(neighbour)\n",
    "\n",
    "if __name__ == '__main__':\n",
    "    graph = {\n",
    "        0: [1, 2],\n",
    "        1: [2],\n",
    "        2: [3],\n",
    "        3: [1, 2]\n",
    "    }\n",
    "\n",
    "    print(\"Following is Breadth First Traversal:\")\n",
    "    bfs(graph, 0)\n"
   ]
  },
  {
   "cell_type": "code",
   "execution_count": 3,
   "id": "20c85c11-d3e2-4b7c-9b81-ee8007aed7e4",
   "metadata": {},
   "outputs": [
    {
     "name": "stdout",
     "output_type": "stream",
     "text": [
      "0\n",
      "2\n",
      "1\n",
      "3\n",
      "4\n"
     ]
    },
    {
     "data": {
      "text/plain": [
       "{'0', '1', '2', '3', '4'}"
      ]
     },
     "execution_count": 3,
     "metadata": {},
     "output_type": "execute_result"
    }
   ],
   "source": [
    "\n",
    "# DFS algorithm in Python\n",
    "def dfs(graph, start, visited=None):\n",
    "    if visited is None:\n",
    "        visited = set()\n",
    "    visited.add(start)\n",
    "    print(start)\n",
    "    for next in graph[start] - visited:\n",
    "        dfs(graph, next, visited)\n",
    "    return visited\n",
    "graph = {'0': set(['1', '2']),\n",
    "         '1': set(['0', '3', '4']),\n",
    "         '2': set(['0']),\n",
    "         '3': set(['1']),\n",
    "         '4': set(['2', '3'])}\n",
    "dfs(graph, '0')\n"
   ]
  },
  {
   "cell_type": "code",
   "execution_count": 4,
   "id": "3f964f3c-892c-4a7c-b58f-ac16316e336a",
   "metadata": {},
   "outputs": [
    {
     "name": "stdout",
     "output_type": "stream",
     "text": [
      "Path found: ['A', 'F', 'G', 'I', 'J']\n"
     ]
    },
    {
     "data": {
      "text/plain": [
       "['A', 'F', 'G', 'I', 'J']"
      ]
     },
     "execution_count": 4,
     "metadata": {},
     "output_type": "execute_result"
    }
   ],
   "source": [
    "def aStarAlgo(start_node, stop_node):\n",
    "    \n",
    "\n",
    "    open_set = set(start_node) # {A}, len{open_set}=1\n",
    "    closed_set = set()\n",
    "    g = {} # store the distance from starting node\n",
    "    parents = {}\n",
    "    g[start_node] = 0\n",
    "    parents[start_node] = start_node # parents['A']='A\"\n",
    "\n",
    "    while len(open_set) > 0 :\n",
    "        n = None\n",
    "\n",
    "        for v in open_set: # v='B'/'F'\n",
    "            if n == None or g[v] + heuristic(v) < g[n] + heuristic(n):\n",
    "                n = v # n='A'\n",
    "\n",
    "        if n == stop_node or Graph_nodes[n] == None:\n",
    "            pass\n",
    "        else:\n",
    "            for (m, weight) in get_neighbors(n):\n",
    "             # nodes 'm' not in first and last set are added to first\n",
    "             # n is set its parent\n",
    "                if m not in open_set and m not in closed_set:\n",
    "                    open_set.add(m)      # m=B weight=6 {'F','B','A'} len{open_set}=2\n",
    "                    parents[m] = n       # parents={'A':A,'B':A} len{parent}=2\n",
    "                    g[m] = g[n] + weight # g={'A':0,'B':6, 'F':3} len{g}=2\n",
    "\n",
    "\n",
    "            #for each node m,compare its distance from start i.e g(m) to the\n",
    "            #from start through n node\n",
    "                else:\n",
    "                    if g[m] > g[n] + weight:\n",
    "                    #update g(m)\n",
    "                        g[m] = g[n] + weight\n",
    "                    #change parent of m to n\n",
    "                        parents[m] = n\n",
    "\n",
    "                    #if m in closed set,remove and add to open\n",
    "                        if m in closed_set:\n",
    "                            closed_set.remove(m)\n",
    "                            open_set.add(m)\n",
    "\n",
    "        if n == None:\n",
    "            print('Path does not exist!')\n",
    "            return None\n",
    "\n",
    "        # if the current node is the stop_node\n",
    "        # then we begin reconstructin the path from it to the start_node\n",
    "        if n == stop_node:\n",
    "            path = []\n",
    "\n",
    "            while parents[n] != n:\n",
    "                path.append(n)\n",
    "                n = parents[n]\n",
    "\n",
    "            path.append(start_node)\n",
    "\n",
    "            path.reverse()\n",
    "\n",
    "            print('Path found: {}'.format(path))\n",
    "            return path\n",
    "\n",
    "\n",
    "        # remove n from the open_list, and add it to closed_list\n",
    "        # because all of his neighbors were inspected\n",
    "        open_set.remove(n)# {'F','B'} len=2\n",
    "        closed_set.add(n) #{A} len=1\n",
    "\n",
    "    print('Path does not exist!')\n",
    "    return None\n",
    "\n",
    "#define fuction to return neighbor and its distance\n",
    "#from the passed node\n",
    "def get_neighbors(v):\n",
    "    if v in Graph_nodes:\n",
    "        return Graph_nodes[v]\n",
    "    else:\n",
    "        return None\n",
    "#for simplicity we ll consider heuristic distances given\n",
    "#and this function returns heuristic distance for all nodes\n",
    " \n",
    "def heuristic(n):\n",
    "    H_dist = {\n",
    "        'A': 10,\n",
    "        'B': 8,\n",
    "        'C': 5,\n",
    "        'D': 7,\n",
    "        'E': 3,\n",
    "        'F': 6,\n",
    "        'G': 5,\n",
    "        'H': 3,\n",
    "        'I': 1,\n",
    "        'J': 0\n",
    "    }\n",
    "\n",
    "    return H_dist[n]\n",
    "\n",
    "#Describe your graph here\n",
    "Graph_nodes = {\n",
    "    \n",
    "    'A': [('B', 6), ('F', 3)],\n",
    "    'B': [('C', 3), ('D', 2)],\n",
    "    'C': [('D', 1), ('E', 5)],\n",
    "    'D': [('C', 1), ('E', 8)],\n",
    "    'E': [('I', 5), ('J', 5)],\n",
    "    'F': [('G', 1),('H', 7)] ,\n",
    "    'G': [('I', 3)],\n",
    "    'H': [('I', 2)],\n",
    "    'I': [('E', 5), ('J', 3)],\n",
    "\n",
    "}\n",
    "aStarAlgo('A', 'J')\n"
   ]
  },
  {
   "cell_type": "code",
   "execution_count": 5,
   "id": "1940b22b-b89d-47af-8377-ce12a795b846",
   "metadata": {},
   "outputs": [
    {
     "name": "stdout",
     "output_type": "stream",
     "text": [
      "The Dataset is: \n",
      "\n",
      "  Outlook Air temp humidity    wind Water Temp Forecast Target\n",
      "0  0   Sunny     Warm   Normal  Strong       Warm...          \n",
      "1  1   Sunny     Warm     High  Strong       Warm...          \n",
      "2  2   Rainy     Cold     High  Strong       Warm...          \n",
      "3  3   Sunny     Warm     High  Strong       Cool...          \n",
      "\n",
      " The Concepts are: \n",
      " []\n",
      "\n",
      "The target is: \n",
      " ['0   Sunny     Warm   Normal  Strong       Warm     Same    Yes'\n",
      " '1   Sunny     Warm     High  Strong       Warm     Same    Yes'\n",
      " '2   Rainy     Cold     High  Strong       Warm   Change     No'\n",
      " '3   Sunny     Warm     High  Strong       Cool   Change    Yes']\n",
      "\n",
      "\n",
      "Final S: []\n",
      "\n",
      "\n",
      "Final G: []\n"
     ]
    }
   ],
   "source": []
  },
  {
   "cell_type": "code",
   "execution_count": null,
   "id": "12dc7f4e-2947-485a-8ac3-dd46a2bc5acf",
   "metadata": {},
   "outputs": [],
   "source": []
  }
 ],
 "metadata": {
  "kernelspec": {
   "display_name": "Python 3 (ipykernel)",
   "language": "python",
   "name": "python3"
  },
  "language_info": {
   "codemirror_mode": {
    "name": "ipython",
    "version": 3
   },
   "file_extension": ".py",
   "mimetype": "text/x-python",
   "name": "python",
   "nbconvert_exporter": "python",
   "pygments_lexer": "ipython3",
   "version": "3.12.7"
  }
 },
 "nbformat": 4,
 "nbformat_minor": 5
}
